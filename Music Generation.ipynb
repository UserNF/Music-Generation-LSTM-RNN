{
 "cells": [
  {
   "cell_type": "code",
   "execution_count": 1,
   "id": "83cce90c",
   "metadata": {},
   "outputs": [],
   "source": [
    "import os\n",
    "import music21 as m21"
   ]
  },
  {
   "cell_type": "code",
   "execution_count": null,
   "id": "a7e62263",
   "metadata": {},
   "outputs": [
    {
     "name": "stdout",
     "output_type": "stream",
     "text": [
      "Loaded 0 songs.\n"
     ]
    },
    {
     "ename": "IndexError",
     "evalue": "list index out of range",
     "output_type": "error",
     "traceback": [
      "\u001b[1;31m---------------------------------------------------------------------------\u001b[0m",
      "\u001b[1;31mIndexError\u001b[0m                                Traceback (most recent call last)",
      "Cell \u001b[1;32mIn[18], line 26\u001b[0m\n\u001b[0;32m     24\u001b[0m songs \u001b[38;5;241m=\u001b[39m load_songs_in_kern(KERN_DATASET_PATH)\n\u001b[0;32m     25\u001b[0m \u001b[38;5;28mprint\u001b[39m(\u001b[38;5;124mf\u001b[39m\u001b[38;5;124m\"\u001b[39m\u001b[38;5;124mLoaded \u001b[39m\u001b[38;5;132;01m{\u001b[39;00m\u001b[38;5;28mlen\u001b[39m(songs)\u001b[38;5;132;01m}\u001b[39;00m\u001b[38;5;124m songs.\u001b[39m\u001b[38;5;124m\"\u001b[39m)\n\u001b[1;32m---> 26\u001b[0m song \u001b[38;5;241m=\u001b[39m \u001b[43msongs\u001b[49m\u001b[43m[\u001b[49m\u001b[38;5;241;43m8\u001b[39;49m\u001b[43m]\u001b[49m\n\u001b[0;32m     27\u001b[0m song\u001b[38;5;241m.\u001b[39mshow()\n",
      "\u001b[1;31mIndexError\u001b[0m: list index out of range"
     ]
    }
   ],
   "source": [
    "#m21.environment.set('musicxmlPath', 'C:/Program Files/MuseScore 4/bin/MuseScore4.exe') \n",
    "from music21 import environment\n",
    "us = environment.UserSettings()\n",
    "for key in sorted(us.keys()):\n",
    "    key\n",
    "# Create constant\n",
    "KERN_DATASET_PATH = \"deutschl/test\"\n",
    "\n",
    "# Load all songs from the data set\n",
    "def load_songs_in_kern(dataset_path):\n",
    "    songs = []\n",
    "    for path, subdirs, files in os.walk(dataset_path):\n",
    "        for file in files:\n",
    "            if file[-3:] == \"krn\":\n",
    "                song=m21.converter.parse(os.path.join(path, file))\n",
    "                songs.append(song)\n",
    "    return songs\n",
    "\n",
    "def preprocess(dataset_path):\n",
    "    pass\n",
    "\n",
    "    print(\"Loading songs...\")\n",
    "    songs = load_songs_in_kern(dataset_path)\n",
    "    print(f\"Loaded {len(songs)} songs.\")\n",
    "\n",
    "if __name__ == \"__main__\":\n",
    "    songs = load_songs_in_kern(KERN_DATASET_PATH)\n",
    "    print(f\"Loaded {len(songs)} songs.\")\n",
    "    song = songs[]\n",
    "    song.show()"
   ]
  },
  {
   "cell_type": "code",
   "execution_count": null,
   "id": "225c37b4",
   "metadata": {},
   "outputs": [],
   "source": [
    "from music21 import environment\n",
    "us = environment.UserSettings()\n",
    "for key in sorted(us.keys()):\n",
    "    key"
   ]
  },
  {
   "cell_type": "code",
   "execution_count": null,
   "id": "a74102b9",
   "metadata": {},
   "outputs": [],
   "source": []
  },
  {
   "cell_type": "code",
   "execution_count": null,
   "id": "a328451e",
   "metadata": {},
   "outputs": [],
   "source": []
  }
 ],
 "metadata": {
  "kernelspec": {
   "display_name": "Python 3",
   "language": "python",
   "name": "python3"
  },
  "language_info": {
   "codemirror_mode": {
    "name": "ipython",
    "version": 3
   },
   "file_extension": ".py",
   "mimetype": "text/x-python",
   "name": "python",
   "nbconvert_exporter": "python",
   "pygments_lexer": "ipython3",
   "version": "3.10.9"
  }
 },
 "nbformat": 4,
 "nbformat_minor": 5
}
