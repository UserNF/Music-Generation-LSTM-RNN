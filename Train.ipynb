{
 "cells": [
  {
   "cell_type": "code",
   "execution_count": null,
   "id": "0b434efd",
   "metadata": {},
   "outputs": [
    {
     "ename": "ModuleNotFoundError",
     "evalue": "No module named 'MusicGeneration'",
     "output_type": "error",
     "traceback": [
      "\u001b[1;31m---------------------------------------------------------------------------\u001b[0m",
      "\u001b[1;31mModuleNotFoundError\u001b[0m                       Traceback (most recent call last)",
      "Cell \u001b[1;32mIn[1], line 3\u001b[0m\n\u001b[0;32m      1\u001b[0m \u001b[38;5;28;01mimport\u001b[39;00m\u001b[38;5;250m \u001b[39m\u001b[38;5;21;01mtensorflow\u001b[39;00m\n\u001b[0;32m      2\u001b[0m \u001b[38;5;28;01mimport\u001b[39;00m\u001b[38;5;250m \u001b[39m\u001b[38;5;21;01mkeras\u001b[39;00m\n\u001b[1;32m----> 3\u001b[0m \u001b[38;5;28;01mfrom\u001b[39;00m\u001b[38;5;250m \u001b[39m\u001b[38;5;21;01mMusicGeneration\u001b[39;00m\u001b[38;5;250m \u001b[39m\u001b[38;5;28;01mimport\u001b[39;00m generate_training_sequence, SEQUENCE_LENGTH\n\u001b[0;32m      5\u001b[0m OUTPUT_UNITS \u001b[38;5;241m=\u001b[39m \u001b[38;5;241m38\u001b[39m\n\u001b[0;32m      6\u001b[0m NUM_UNITS \u001b[38;5;241m=\u001b[39m [\u001b[38;5;241m256\u001b[39m]\n",
      "\u001b[1;31mModuleNotFoundError\u001b[0m: No module named 'MusicGeneration'"
     ]
    }
   ],
   "source": [
    "import tensorflow\n",
    "import keras\n",
    "from MusicGeneration import generate_training_sequences, SEQUENCE_LENGTH\n",
    "\n",
    "OUTPUT_UNITS = 38\n",
    "NUM_UNITS = [256]\n",
    "LOSS = \"sparse_categorical_crossentropy\"\n",
    "LEARNING_RATE = 0.001\n",
    "EPOCHS = 50\n",
    "BATCH_SIZE = 64 # Amoutn of samples that the network is goign to see before running back prop\n",
    "SAVE_MODEL_PATH = \"model.h5\"\n",
    "\n",
    "# Build a model using functional API approach\n",
    "def build_model(output_units, num_units, loss, learning_rate):\n",
    "    # create model architecture\n",
    "    # None: Include the sequence in the first parameter to indicate how many time sets are in network\n",
    "    # \n",
    "    input = keras.layers.Input(shape=(None, output_units))\n",
    "    x = keras.layers.LSTM(num_units[0])(input)\n",
    "    x = keras.layers.Dropout(0.2)(x) # avoids overfitting\n",
    "\n",
    "    output = keras.layers.Dense(output_units, activation=\"softmax\")(x)\n",
    "\n",
    "    model = keras.Model(input, output)\n",
    "\n",
    "    model.compile(loss=loss, optimizer=keras.optimizers.Adam(lr=learning_rate),\n",
    "                  metrics=[\"accuracy\"])\n",
    "    \n",
    "    model.summary()\n",
    "\n",
    "    return model\n",
    "    # compile model\n",
    "\n",
    "# Creating a model through Keras - trying tensor flow\n",
    "def train(output_units=OUTPUT_UNITS, num_units = NUM_UNITS, loss=LOSS, learning_rate=LEARNING_RATE):\n",
    "    # Generate the training sequences\n",
    "    inputs, targets = generate_training_sequences(SEQUENCE_LENGTH)\n",
    "\n",
    "    # Build the network\n",
    "    model = build_model(output_units, num_units, loss, learning_rate)\n",
    "\n",
    "    # Train model\n",
    "    model.fit(inputs, targets, epochs=EPOCHS, batch_size=BATCH_SIZE)\n",
    "\n",
    "    # Save the model\n",
    "    model.save(SAVE_MODEL_PATH)\n",
    "\n",
    "if __name__ == \"__main__\":\n",
    "    train()"
   ]
  },
  {
   "cell_type": "code",
   "execution_count": null,
   "id": "439a0180",
   "metadata": {},
   "outputs": [],
   "source": []
  }
 ],
 "metadata": {
  "kernelspec": {
   "display_name": "Python 3",
   "language": "python",
   "name": "python3"
  },
  "language_info": {
   "codemirror_mode": {
    "name": "ipython",
    "version": 3
   },
   "file_extension": ".py",
   "mimetype": "text/x-python",
   "name": "python",
   "nbconvert_exporter": "python",
   "pygments_lexer": "ipython3",
   "version": "3.10.9"
  }
 },
 "nbformat": 4,
 "nbformat_minor": 5
}
